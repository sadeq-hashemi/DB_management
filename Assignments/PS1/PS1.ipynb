{
 "cells": [
  {
   "cell_type": "code",
   "execution_count": 1,
   "metadata": {},
   "outputs": [
    {
     "data": {
      "text/plain": [
       "u'Connected: None@PS1.db'"
      ]
     },
     "execution_count": 1,
     "metadata": {},
     "output_type": "execute_result"
    }
   ],
   "source": [
    "%load_ext sql\n",
    "%sql sqlite:///PS1.db"
   ]
  },
  {
   "cell_type": "markdown",
   "metadata": {},
   "source": [
    "Problem Set 1 [100 points]\n",
    "=======\n",
    "\n",
    "### Deliverables:\n",
    "\n",
    "Submit your queries (and only those) using the `submission_template.txt` file that is posted on the class website. Follow the instructions on the file! Upload the file at Canvas (under PS1).\n",
    "\n",
    "\n",
    "### Instructions / Notes:\n",
    "\n",
    "* Run the top cell above to load the database `PS1.db` (make sure the database file, `PS1.db`, is in the same directory as this IPython notebook is running in)\n",
    "* Some of the problems involve _changing_ this database (e.g. deleting rows)- you can always re-download `PS1.db` or make a copy if you want to start fresh!\n",
    "* You **may** create new IPython notebook cells to use for e.g. testing, debugging, exploring, etc.- this is encouraged in fact!- **just make sure that your final answer for each question is _in its own cell_ and _clearly indicated_**\n",
    "* When you see `In [*]:` to the left of the cell you are executing, this means that the code / query is _running_.\n",
    "    * **If the cell is hanging- i.e. running for too long: To restart the SQL connection, you must restart the entire python kernel**\n",
    "    * To restart kernel using the menu bar: \"Kernel >> Restart >> Clear all outputs & restart\"), then re-execute the sql connection cell at top\n",
    "    * You will also need to restart the connection if you want to load a different version of the database file\n",
    "* Remember:\n",
    "    * `%sql [SQL]` is for _single line_ SQL queries\n",
    "    * `%%sql [SQL]` is for _multi line_ SQL queries\n",
    "* _Have fun!_"
   ]
  },
  {
   "cell_type": "markdown",
   "metadata": {},
   "source": [
    "Problem 1: Linear Algebra [25 points]\n",
    "------------------------\n",
    "\n",
    "Two random 3x3 ($N=3$) matrices have been provided in tables `A` and `B`, having the following schema:\n",
    "> * `i INT`:   Row index\n",
    "> * `j INT`:   Column index\n",
    "> * `val INT`: Cell value\n",
    "\n",
    "**Note: all of your answers below _must_ work for any _square_ matrix sizes, i.e. any value of $N$**.\n",
    "\n",
    "Note how the matrices are represented- why do we choose this format?  Run the following queries to see the matrices in a nice format:"
   ]
  },
  {
   "cell_type": "code",
   "execution_count": null,
   "metadata": {
    "collapsed": true
   },
   "outputs": [],
   "source": [
    "%sql SELECT group_concat(val, \" , \") AS \"A\" FROM A GROUP BY i;"
   ]
  },
  {
   "cell_type": "code",
   "execution_count": null,
   "metadata": {
    "collapsed": true
   },
   "outputs": [],
   "source": [
    "%sql SELECT group_concat(val, \" , \") AS \"B\" FROM B GROUP BY i;"
   ]
  },
  {
   "cell_type": "markdown",
   "metadata": {},
   "source": [
    "### Part (a): Matrix transpose [5 points]\n",
    "\n",
    "_Transposing_ a matrix $A$ is the operation of switching its rows with its columns- written $A^T$.  For example, if we have:\n",
    "\n",
    "$A=\\begin{bmatrix}a & b & c\\\\ d & e & f\\\\ g & h & i\\end{bmatrix}$\n",
    "\n",
    "Then:\n",
    "\n",
    "$A^T=\\begin{bmatrix}a & d & g\\\\ b & e & h\\\\ c & f & i\\end{bmatrix}$\n",
    "\n",
    "Write a _single SQL query_ to get the matrix transpose $A^T$ (in the same format as $A$- output tuples should be of format `(i,j,val)` where `i` is row, `j` is column, and the output is ordered by row then column index)\n",
    "\n",
    "Write your query here:"
   ]
  },
  {
   "cell_type": "code",
   "execution_count": null,
   "metadata": {
    "collapsed": true
   },
   "outputs": [],
   "source": [
    "%sql SELECT j AS i, i AS j, group_concat(val, \" , \") AS \"A^T\" FROM A GROUP BY j, i;"
   ]
  },
  {
   "cell_type": "code",
   "execution_count": null,
   "metadata": {
    "collapsed": true
   },
   "outputs": [],
   "source": [
    "\"\"\"\n",
    "Expected output below- don't re-evaluate this cell!\n",
    "\n",
    "NOTE: A valid answer must work for ALL inputs of the given type,\n",
    "not just this example.  I.e. do not hardcode around this answer / etc!\n",
    "\"\"\""
   ]
  },
  {
   "cell_type": "markdown",
   "metadata": {},
   "source": [
    "### Part (b): Dot product I [5 points]\n",
    "\n",
    "The _dot product_ of two vectors\n",
    "\n",
    "$a = \\begin{bmatrix}a_1 & a_2 & \\dots & a_n\\end{bmatrix}$\n",
    "\n",
    "and\n",
    "\n",
    "$b = \\begin{bmatrix}b_1 & b_2 & \\dots & b_n\\end{bmatrix}$\n",
    "\n",
    "is\n",
    "\n",
    "$a\\cdot b = \\sum_{i=1}^n a_ib_i = a_1b_1 + a_2b_2 + \\dots + a_nb_n$\n",
    "\n",
    "Write a _single SQL query_ to take the dot product of the **second column of $A$** and the **third column of $B$.**\n",
    "\n",
    "Write your query here:"
   ]
  },
  {
   "cell_type": "code",
   "execution_count": null,
   "metadata": {
    "collapsed": true
   },
   "outputs": [],
   "source": [
    "%%sql SELECT SUM(A.val * B.val) AS \"SUM(A.val * B.val)\"\n",
    "FROM A INNER JOIN B\n",
    "ON A.i = B.i\n",
    "WHERE A.j = 1 AND B.j = 2; "
   ]
  },
  {
   "cell_type": "code",
   "execution_count": null,
   "metadata": {
    "collapsed": true
   },
   "outputs": [],
   "source": [
    "\"\"\"\n",
    "Expected output below- don't re-evaluate this cell!\n",
    "\n",
    "NOTE: A valid answer must work for ALL inputs of the given type,\n",
    "not just this example.  I.e. do not hardcode around this answer / etc!\n",
    "\"\"\""
   ]
  },
  {
   "cell_type": "markdown",
   "metadata": {},
   "source": [
    "### Part (c): Dot product II [5 points]\n",
    "\n",
    "Write a _single SQL query_ to take the dot product of the **second _row_ of $A$** and the **third column of $B$.**\n",
    "\n",
    "Write your query here:"
   ]
  },
  {
   "cell_type": "code",
   "execution_count": null,
   "metadata": {
    "collapsed": true
   },
   "outputs": [],
   "source": [
    "%%sql SELECT SUM(A.val * B.val) AS \"SUM(A.val * B.val)\"\n",
    "FROM A INNER JOIN B\n",
    "ON A.j = B.i\n",
    "WHERE A.i = 1 AND B.j = 2;"
   ]
  },
  {
   "cell_type": "code",
   "execution_count": null,
   "metadata": {
    "collapsed": true
   },
   "outputs": [],
   "source": [
    "\"\"\"\n",
    "Expected output below- don't re-evaluate this cell!\n",
    "\n",
    "NOTE: A valid answer must work for ALL inputs of the given type,\n",
    "not just this example.  I.e. do not hardcode around this answer / etc!\n",
    "\"\"\""
   ]
  },
  {
   "cell_type": "markdown",
   "metadata": {},
   "source": [
    "### Part (d): Matrix multiplication [10 points]\n",
    "\n",
    "The product of a matrix $A$ (having dimensions $n\\times m$) and a matrix $B$ (having dimensions $m\\times p$) is the matrix $C$ (of dimension $n\\times p$) having cell at row $i$ and column $j$ equal to:\n",
    "\n",
    "$C_{ij} = \\sum_{k=1}^m A_{ik}B_{kj}$\n",
    "\n",
    "In other words, to multiply two matrices, get each cell of the resulting matrix $C$, $C_{ij}$, by taking the _dot product_ of the $i$th row of $A$ and the $j$th column of $B$.\n",
    "\n",
    "Write a single SQL query to get the matrix product of $A$ and $B$ (in the same format as $A$ and $B$).\n",
    "\n",
    "Write your query here:"
   ]
  },
  {
   "cell_type": "code",
   "execution_count": null,
   "metadata": {
    "collapsed": true
   },
   "outputs": [],
   "source": [
    "%%sql SELECT A.i, B.j, SUM(A.val * B.val) AS \"val\"\n",
    "FROM A INNER JOIN B\n",
    "ON A.j = B.i\n",
    "GROUP BY A.i, B.j;"
   ]
  },
  {
   "cell_type": "code",
   "execution_count": null,
   "metadata": {
    "collapsed": true
   },
   "outputs": [],
   "source": [
    "\"\"\"\n",
    "Expected output below- don't re-evaluate this cell!\n",
    "\n",
    "NOTE: A valid answer must work for ALL inputs of the given type,\n",
    "not just this example.  I.e. do not hardcode around this answer / etc!\n",
    "\"\"\""
   ]
  },
  {
   "cell_type": "markdown",
   "metadata": {},
   "source": [
    "Problem 2: The Sales Database [35 points]\n",
    "----------------------------------------------\n",
    "\n",
    "We've prepared and loaded a dataset related to sales data from a company. The dataset has the following schema:\n",
    "\n",
    "> `Holidays (WeekDate, IsHoliday)`\n",
    "\n",
    "> `Stores (Store, Type, Size)`\n",
    "\n",
    "> `TemporalData(Store,WeekDate,Temperature,FuelPrice,CPI,UnemploymentRate)`\n",
    "\n",
    "> `Sales (Store, Dept, WeekDate, WeeklySales)`\n",
    "\n",
    "Before you start writing queries on the database, find the schema and the constraints (keys, foreign keys). "
   ]
  },
  {
   "cell_type": "markdown",
   "metadata": {},
   "source": [
    "### Part (a): Sales during Holidays [5 points]\n",
    "\n",
    "Using a _single SQL query_, find the stores with the largest and smallest overall sales during holiday weeks. Further requirements:\n",
    "* Use the `WITH` clause before the main body of the query to compute a subquery if necessary.\n",
    "* Return a relation with schema `(Store, AllSales)`.\n",
    "\n",
    "Write your query here:"
   ]
  },
  {
   "cell_type": "code",
   "execution_count": null,
   "metadata": {
    "collapsed": true,
    "scrolled": false
   },
   "outputs": [],
   "source": [
    "%%sql WITH total AS (SELECT Sales.Store as Store, SUM(Sales.WeeklySales) as AllSales\n",
    "FROM Sales, Holidays\n",
    "ON Sales.WeekDate = Holidays.WeekDate\n",
    "WHERE Holidays.IsHoliday='TRUE'\n",
    "GROUP BY Sales.Store\n",
    "ORDER BY Sales.Store)\n",
    "SELECT Store, max(AllSales) FROM total\n",
    "UNION\n",
    "SELECT Store, min(AllSales) FROM total"
   ]
  },
  {
   "cell_type": "code",
   "execution_count": null,
   "metadata": {
    "collapsed": true
   },
   "outputs": [],
   "source": [
    "\"\"\"\n",
    "Expected output below- don't re-evaluate this cell!\n",
    "\n",
    "NOTE: A valid answer must work for ALL inputs of the given type,\n",
    "not just this example.  I.e. do not hardcode around this answer / etc!\n",
    "\"\"\""
   ]
  },
  {
   "cell_type": "markdown",
   "metadata": {},
   "source": [
    "### Part (b): When Holidays do not help Sales [10 points]\n",
    "\n",
    "Using a _single SQL query_, compute the **number** of non-holiday weeks that had larger sales than the overall average sales during holiday weeks. Further requirements:\n",
    "* Use the `WITH` clause before the main body of the query to compute a subquery if necessary.\n",
    "* Return a relation with schema `(NumNonHolidays)`.\n",
    "\n",
    "Write your query here:"
   ]
  },
  {
   "cell_type": "code",
   "execution_count": null,
   "metadata": {
    "collapsed": true
   },
   "outputs": [],
   "source": [
    "%%sql WITH holidaySales AS (SELECT Sales.WeekDate as Date, SUM(Sales.WeeklySales) as AllSales\n",
    "FROM Sales, Holidays\n",
    "ON Sales.WeekDate = Holidays.WeekDate\n",
    "WHERE Holidays.IsHoliday='TRUE'\n",
    "GROUP BY Sales.WeekDate\n",
    "ORDER BY Sales.WeekDate),\n",
    "\n",
    "nonholidaySales AS (SELECT Sales.WeekDate as Date, SUM(Sales.WeeklySales) as AllSales\n",
    "FROM Sales, Holidays\n",
    "ON Sales.WeekDate = Holidays.WeekDate\n",
    "WHERE Holidays.IsHoliday='FALSE'\n",
    "GROUP BY Sales.WeekDate\n",
    "ORDER BY Sales.Store), \n",
    "\n",
    "result AS (\n",
    "    SELECT nonholidaySales.Date as date, nonholidaySales.AllSales as sales\n",
    "    FROM holidaySales, nonholidaySales\n",
    "    GROUP BY nonholidaySales.Date\n",
    "    HAVING sales > AVG(holidaySales.AllSales)\n",
    ")\n",
    "\n",
    "SELECT COUNT(date) as NumNonHolidays from result\n"
   ]
  },
  {
   "cell_type": "code",
   "execution_count": null,
   "metadata": {
    "collapsed": true
   },
   "outputs": [],
   "source": [
    "\"\"\"\n",
    "Expected output below- don't re-evaluate this cell!\n",
    "\n",
    "NOTE: A valid answer must work for ALL inputs of the given type,\n",
    "not just this example.  I.e. do not hardcode around this answer / etc!\n",
    "\"\"\""
   ]
  },
  {
   "cell_type": "markdown",
   "metadata": {},
   "source": [
    "### Part (c): Total Sales [5 points]\n",
    "\n",
    "Using a _single SQL query_, compute the total sales per month overall for each type of store. Further requirements:\n",
    "* Return a relation with schema `(type, Month, TotalSales)`.\n",
    "\n",
    "*Hint:* SQLite3 does not support native operations on the DATE datatype. To create a workaround, you can use the `LIKE` predicate and the string concatenation operator (||). You can also use the substring operator that SQLite3 supports (`substr`).\n",
    "\n",
    "Write your query here:"
   ]
  },
  {
   "cell_type": "code",
   "execution_count": null,
   "metadata": {
    "collapsed": true
   },
   "outputs": [],
   "source": [
    "%%sql SELECT Stores.type, SUBSTR(Sales.WeekDate, 6, 2) AS month, SUM(Sales.WeeklySales)\n",
    "FROM Sales, Stores\n",
    "ON Sales.Store = Stores.Store\n",
    "GROUP BY Stores.type, month;\n"
   ]
  },
  {
   "cell_type": "code",
   "execution_count": null,
   "metadata": {
    "collapsed": true
   },
   "outputs": [],
   "source": [
    "\"\"\"\n",
    "Expected output below- don't re-evaluate this cell!\n",
    "\n",
    "NOTE: A valid answer must work for ALL inputs of the given type,\n",
    "not just this example.  I.e. do not hardcode around this answer / etc!\n",
    "\"\"\""
   ]
  },
  {
   "cell_type": "markdown",
   "metadata": {},
   "source": [
    "### Part (d): Computing Correlations [15 points]\n",
    "\n",
    "The goal of this exercise is to find out whether each one of the 4 numeric attributes in `TemporalData` is\n",
    "positively or negatively correlated with sales.\n",
    "\n",
    "For our purposes, the intuitive notion of correlation is defined using a\n",
    "standard statistical quantity known as the *Pearson correlation coefficient*.\n",
    "Given two numeric random variables $X$ and $Y$, it is defined as follows:\n",
    "\n",
    "$$\\rho_{X,Y} = \\frac{E[XY] - E[X]E[Y]}{\\sqrt{E[X^2] - E[X]^2} \\sqrt{E[Y^2] - E[Y]^2}}$$\n",
    "\n",
    "On a given sample of data with $n$ examples each for $X$ and $Y$ (label them\n",
    "$x_i$ and $y_i$ respectively for $i = 1 \\dots n$), it is estimated as follows:\n",
    "\n",
    "\\begin{align*}\n",
    "\\rho_{X,Y} = \\frac{\\sum_{i=1}^n (x_i - \\bar{x})(y_i - \\bar{y})}{\\sqrt{\\sum_{i=1}^n (x_i - \\bar{x})^2} \\sqrt{\\sum_{i=1}^n (y_i - \\bar{y})^2}}\n",
    "\\end{align*}\n",
    "In the above, $\\bar{x}$ and $\\bar{y}$ are the sample means, i.e.,\n",
    "$\\bar{x} = \\frac{1}{n}\\sum_{i=1}^n x_i$, and $\\bar{x} = \\frac{1}{n}\\sum_{i=1}^n y_i$.\n",
    "\n",
    "Further requirements:\n",
    "* Return a relation with schema `(AttributeName VARCHAR(20), CorrelationSign Integer)`. \n",
    "* The values of AttributeName can be hardcoded string literals, but the values\n",
    "of `CorrelationSign` must be computed automatically using SQL queries over\n",
    "the given database instance.\n",
    "* You can use multiple SQL statements to compute the result. It might be of help to create and update your own tables.\n",
    "\n",
    "Write your query here:"
   ]
  },
  {
   "cell_type": "code",
   "execution_count": null,
   "metadata": {
    "collapsed": true
   },
   "outputs": [],
   "source": [
    "%%sql WITH diff AS (SELECT (TemporalData.temperature - AVG(TemporalData.temperature))*(Sales.WeeklySales - AVG(Sales.WeeklySales)) AS TEMP, \n",
    "    (TemporalData.fuelprice - AVG(TemporalData.fuelprice))*(Sales.WeeklySales - AVG(Sales.WeeklySales)) AS FUEL, \n",
    "    (TemporalData.cpi - AVG(TemporalData.cpi))*(Sales.WeeklySales - AVG(Sales.WeeklySales)) AS CPI, \n",
    "    (TemporalData.unemploymentrate - AVG(TemporalData.unemploymentrate))*(Sales.WeeklySales - AVG(Sales.WeeklySales)) AS UNEMPLOY\n",
    "    FROM TemporalData, Sales)\n",
    "SELECT * from diff;\n"
   ]
  },
  {
   "cell_type": "code",
   "execution_count": 45,
   "metadata": {},
   "outputs": [
    {
     "name": "stdout",
     "output_type": "stream",
     "text": [
      "Done.\n",
      "Done.\n",
      "Done.\n",
      "Done.\n",
      "1 rows affected.\n",
      "1 rows affected.\n",
      "1 rows affected.\n",
      "1 rows affected.\n",
      "Done.\n"
     ]
    },
    {
     "data": {
      "text/html": [
       "<table>\n",
       "    <tr>\n",
       "        <th>AttributeName</th>\n",
       "        <th>CorrelationSign</th>\n",
       "    </tr>\n",
       "    <tr>\n",
       "        <td>Temperature</td>\n",
       "        <td>-1</td>\n",
       "    </tr>\n",
       "    <tr>\n",
       "        <td>FuelPrice</td>\n",
       "        <td>-1</td>\n",
       "    </tr>\n",
       "    <tr>\n",
       "        <td>CPI</td>\n",
       "        <td>-1</td>\n",
       "    </tr>\n",
       "    <tr>\n",
       "        <td>UnemploymentRate</td>\n",
       "        <td>-1</td>\n",
       "    </tr>\n",
       "</table>"
      ],
      "text/plain": [
       "[(u'Temperature', -1),\n",
       " (u'FuelPrice', -1),\n",
       " (u'CPI', -1),\n",
       " (u'UnemploymentRate', -1)]"
      ]
     },
     "execution_count": 45,
     "metadata": {},
     "output_type": "execute_result"
    }
   ],
   "source": [
    "%%sql\n",
    "DROP TABLE IF EXISTS relation;\n",
    "DROP VIEW IF EXISTS temp;\n",
    "CREATE TABLE relation(AttributeName VARCHAR(20), CorrelationSign Integer);\n",
    "\n",
    "CREATE VIEW temp AS \n",
    "WITH avgTemp AS \n",
    "    (SELECT AVG(TemporalData.temperature) as temp FROM TemporalData),\n",
    "avgFuel AS \n",
    "   (SELECT AVG(TemporalData.fuelprice) as fuel FROM TemporalData),\n",
    "avgCPI AS \n",
    "    (SELECT AVG(TemporalData.cpi) as cpi FROM TemporalData),\n",
    "avgUnemploy AS \n",
    "    (SELECT AVG(TemporalData.unemploymentrate) as unemploy FROM TemporalData),\n",
    "avgSales AS \n",
    "    (SELECT AVG(Sales.WeeklySales) as sale FROM Sales),\n",
    "diff AS \n",
    "    (SELECT TemporalData.temperature - avgTemp.temp as diffTemp, \n",
    "        TemporalData.fuelprice - avgFuel.fuel as diffFuel,\n",
    "        TemporalData.cpi - avgCPI.cpi as diffCPI, \n",
    "        TemporalData.unemploymentrate - avgUnemploy.unemploy as diffUnemploy, \n",
    "        Sales.WeeklySales - avgSales.sale as diffSale\n",
    "     FROM avgSales, avgUnemploy, avgCPI, avgFuel, avgTemp, TemporalData, Sales\n",
    "     WHERE TemporalData.weekdate = Sales.weekdate AND TemporalData.store = Sales.store ), \n",
    "product AS \n",
    "    ( SELECT diffTemp*diffSale as prodTemp,\n",
    "            diffFuel*diffSale as prodFuel,\n",
    "            diffCPI*diffSale as prodCPI,\n",
    "            diffUnemploy*diffSale as prodUnemploy    \n",
    "     FROM diff\n",
    "    ),\n",
    "summ AS (\n",
    "    SELECT SUM(prodTemp) as sumTemp, SUM(prodFuel) as sumFuel, SUM(prodCPI) as sumCPI, SUM(prodUnemploy) as sumUnemploy\n",
    "    FROM product\n",
    "), \n",
    "sign AS (\n",
    "    SELECT sumTemp/abs(sumTemp) as signTemp,\n",
    "    sumFuel/abs(sumFuel) as signFuel,\n",
    "    sumCPI/abs(sumCPI) as signCPI,\n",
    "    sumUnemploy/abs(sumUnemploy) as signUnemploy \n",
    "    FROM summ\n",
    ") \n",
    "SELECT * from sign;\n",
    "\n",
    "INSERT INTO relation (AttributeName, CorrelationSign) Values ('Temperature', (SELECT signTemp from temp));\n",
    "INSERT INTO relation (AttributeName, CorrelationSign) Values ('FuelPrice', (SELECT signFuel from temp));\n",
    "INSERT INTO relation (AttributeName, CorrelationSign) Values ('CPI', (SELECT signCPI from temp));\n",
    "INSERT INTO relation (AttributeName, CorrelationSign) Values ('UnemploymentRate', (SELECT signUnemploy from temp));\n",
    "\n",
    "\n",
    "SELECT * from relation;\n"
   ]
  },
  {
   "cell_type": "code",
   "execution_count": null,
   "metadata": {
    "collapsed": true
   },
   "outputs": [],
   "source": [
    "%sql select * from relation"
   ]
  },
  {
   "cell_type": "code",
   "execution_count": null,
   "metadata": {
    "collapsed": true
   },
   "outputs": [],
   "source": [
    "\"\"\"\n",
    "Expected output below- don't re-evaluate this cell!\n",
    "\n",
    "NOTE: A valid answer must work for ALL inputs of the given type,\n",
    "not just this example.  I.e. do not hardcode around this answer / etc!\n",
    "\"\"\""
   ]
  },
  {
   "cell_type": "markdown",
   "metadata": {},
   "source": [
    "Problem 3: The Traveling SQL Server Salesman Problem [40 points]\n",
    "--------------------------------------------------\n",
    "\n",
    "SQL Server salespeople are lucky as far as traveling salespeople go- they only have to sell one or two big enterprise contracts, at one or two offices in Wisconsin, in order to make their monthly quota!\n",
    "\n",
    "Answer the following questions using the table of streets connecting company office buildings.\n",
    "\n",
    "**Note that for convenience all streets are included _twice_, as $A \\rightarrow B$ and $B \\rightarrow A$.  This should make some parts of the problem easier, but remember to take it into account!**"
   ]
  },
  {
   "cell_type": "code",
   "execution_count": null,
   "metadata": {
    "collapsed": true
   },
   "outputs": [],
   "source": [
    "%sql SELECT * FROM streets LIMIT 4;"
   ]
  },
  {
   "cell_type": "markdown",
   "metadata": {},
   "source": [
    "### Part (a): One-hop, two-hop, three-hop... [10 points]\n",
    "\n",
    "Our salesperson has stopped at UW-Madison, to steal some cool new RDBMS technology from CS564-ers, and now wants to go sell it to a company _within 10 miles of UW-Madison and _passing through no more than 3 distinct streets_.  Write a single query, not using `WITH` (see later on), to find all such companies.\n",
    "\n",
    "Your query should return the schema `(company, distance)` where distance is cumulative from UW-Madison.\n",
    "\n",
    "Write your query here:"
   ]
  },
  {
   "cell_type": "code",
   "execution_count": 24,
   "metadata": {},
   "outputs": [
    {
     "name": "stdout",
     "output_type": "stream",
     "text": [
      "Done.\n",
      "Done.\n",
      "Done.\n",
      "Done.\n",
      "Done.\n",
      "Done.\n",
      "Done.\n"
     ]
    },
    {
     "data": {
      "text/html": [
       "<table>\n",
       "    <tr>\n",
       "        <th>B</th>\n",
       "        <th>d</th>\n",
       "    </tr>\n",
       "    <tr>\n",
       "        <td>DooHickey Collective</td>\n",
       "        <td>7</td>\n",
       "    </tr>\n",
       "    <tr>\n",
       "        <td>DooHickey Corp</td>\n",
       "        <td>9</td>\n",
       "    </tr>\n",
       "    <tr>\n",
       "        <td>Gadget Collective</td>\n",
       "        <td>9</td>\n",
       "    </tr>\n",
       "    <tr>\n",
       "        <td>Gadget Corp</td>\n",
       "        <td>6</td>\n",
       "    </tr>\n",
       "    <tr>\n",
       "        <td>Gizmo Corp</td>\n",
       "        <td>9</td>\n",
       "    </tr>\n",
       "    <tr>\n",
       "        <td>Widget Industries</td>\n",
       "        <td>10</td>\n",
       "    </tr>\n",
       "</table>"
      ],
      "text/plain": [
       "[(u'DooHickey Collective', 7),\n",
       " (u'DooHickey Corp', 9),\n",
       " (u'Gadget Collective', 9),\n",
       " (u'Gadget Corp', 6),\n",
       " (u'Gizmo Corp', 9),\n",
       " (u'Widget Industries', 10)]"
      ]
     },
     "execution_count": 24,
     "metadata": {},
     "output_type": "execute_result"
    }
   ],
   "source": [
    "%%sql \n",
    "DROP VIEW IF EXISTS st1;\n",
    "DROP VIEW IF EXISTS st2;\n",
    "DROP VIEW IF EXISTS st3;\n",
    "\n",
    "CREATE VIEW st1 AS\n",
    "    SELECT direction, A, B, d  \n",
    "    FROM streets\n",
    "    WHERE direction = 'F' AND A = 'UW-Madison';\n",
    "CREATE VIEW st2 AS  \n",
    "    SELECT streets.direction as direction2, streets.B as B2, st1.d + streets.d as d2  \n",
    "    FROM streets, st1\n",
    "    ON st1.B = streets.A\n",
    "    WHERE direction2 = 'F';\n",
    "CREATE VIEW st3 AS \n",
    "    SELECT streets.direction as direction3, streets.B as B3, st2.d2 + streets.d as d3  \n",
    "    FROM streets, st2\n",
    "    ON st2.B2 = streets.A\n",
    "    WHERE direction3 = 'F';\n",
    "\n",
    "\n",
    "SELECT B3 as B, d3 as d FROM (st3) where d3 <= 10 GROUP BY B\n",
    "UNION \n",
    "SELECT B2 as B, d2 as d FROM st2 where d2 <= 10 GROUP BY B\n",
    "UNION \n",
    "SELECT B , d FROM (st1) where d <= 10 GROUP BY B;"
   ]
  },
  {
   "cell_type": "code",
   "execution_count": null,
   "metadata": {
    "collapsed": true
   },
   "outputs": [],
   "source": [
    "\"\"\"\n",
    "Expected output below- don't re-evaluate this cell!\n",
    "\n",
    "NOTE: A valid answer must work for ALL inputs of the given type,\n",
    "not just this example.  I.e. do not hardcode around this answer / etc!\n",
    "\"\"\""
   ]
  },
  {
   "cell_type": "markdown",
   "metadata": {},
   "source": [
    "### Part (b): A stop at the Farm [10 points]\n",
    "\n",
    "Now, our salesperson is out in the field, and wants to see all routes- and their distances- which will take him/her from a company $A$ to a company $B$, with the following constraints:\n",
    "* The route must _pass through UW-Madison (in order to pick up new RDBMS tech to sell!)\n",
    "* $A$ and $B$ must _each individually_ be _within 3 hops of UW-Madison\n",
    "* $A$ and $B$ must be different companies\n",
    "* _The total distance must be $<= 15$_\n",
    "* Do not use `WITH`\n",
    "* If you return a path $A \\rightarrow B$, _also include $B \\rightarrow A$ in your answer_\n",
    "\n",
    "In order to make your answer a bit cleaner, you may split into two queries, one of which creates a `VIEW`.  A view is a virtual table based on the output set of a SQL query.  A view can be used just like a normal table- the only difference under the hood is that the DBMS re-evaluates the query used to generate it each time a view is queried by a user (thus the data is always up-to date!)\n",
    "\n",
    "Here's a simple example of a view:"
   ]
  },
  {
   "cell_type": "code",
   "execution_count": null,
   "metadata": {
    "collapsed": true,
    "scrolled": true
   },
   "outputs": [],
   "source": [
    "%%sql \n",
    "DROP VIEW IF EXISTS short_streets;\n",
    "CREATE VIEW short_streets AS \n",
    "SELECT A, B, d FROM streets WHERE d < 3;\n",
    "SELECT * FROM short_streets LIMIT 3;"
   ]
  },
  {
   "cell_type": "markdown",
   "metadata": {},
   "source": [
    "Write your query or queries here:"
   ]
  },
  {
   "cell_type": "code",
   "execution_count": 25,
   "metadata": {},
   "outputs": [
    {
     "name": "stdout",
     "output_type": "stream",
     "text": [
      "Done.\n",
      "Done.\n",
      "Done.\n",
      "Done.\n",
      "Done.\n",
      "Done.\n",
      "Done.\n",
      "Done.\n",
      "Done.\n",
      "Done.\n",
      "Done.\n",
      "Done.\n",
      "Done.\n"
     ]
    },
    {
     "data": {
      "text/html": [
       "<table>\n",
       "    <tr>\n",
       "        <th>A</th>\n",
       "        <th>B</th>\n",
       "        <th>d</th>\n",
       "    </tr>\n",
       "    <tr>\n",
       "        <td>DooHickey Collective</td>\n",
       "        <td>Gadget Corp</td>\n",
       "        <td>13</td>\n",
       "    </tr>\n",
       "    <tr>\n",
       "        <td>DooHickey Collective</td>\n",
       "        <td>Gizmo Corp</td>\n",
       "        <td>15</td>\n",
       "    </tr>\n",
       "    <tr>\n",
       "        <td>DooHickey Corp</td>\n",
       "        <td>Gadget Corp</td>\n",
       "        <td>15</td>\n",
       "    </tr>\n",
       "    <tr>\n",
       "        <td>Gadget Collective</td>\n",
       "        <td>Gadget Corp</td>\n",
       "        <td>15</td>\n",
       "    </tr>\n",
       "    <tr>\n",
       "        <td>Gadget Corp</td>\n",
       "        <td>DooHickey Collective</td>\n",
       "        <td>13</td>\n",
       "    </tr>\n",
       "    <tr>\n",
       "        <td>Gadget Corp</td>\n",
       "        <td>DooHickey Corp</td>\n",
       "        <td>15</td>\n",
       "    </tr>\n",
       "    <tr>\n",
       "        <td>Gadget Corp</td>\n",
       "        <td>Gadget Collective</td>\n",
       "        <td>15</td>\n",
       "    </tr>\n",
       "    <tr>\n",
       "        <td>Gadget Corp</td>\n",
       "        <td>Gizmo Corp</td>\n",
       "        <td>14</td>\n",
       "    </tr>\n",
       "    <tr>\n",
       "        <td>Gadget Corp</td>\n",
       "        <td>Gizmo Corp</td>\n",
       "        <td>15</td>\n",
       "    </tr>\n",
       "    <tr>\n",
       "        <td>Gadget Corp</td>\n",
       "        <td>GizmoWorks</td>\n",
       "        <td>15</td>\n",
       "    </tr>\n",
       "    <tr>\n",
       "        <td>Gadget Corp</td>\n",
       "        <td>Widget Industries</td>\n",
       "        <td>15</td>\n",
       "    </tr>\n",
       "    <tr>\n",
       "        <td>Gizmo Corp</td>\n",
       "        <td>DooHickey Collective</td>\n",
       "        <td>15</td>\n",
       "    </tr>\n",
       "    <tr>\n",
       "        <td>Gizmo Corp</td>\n",
       "        <td>Gadget Corp</td>\n",
       "        <td>14</td>\n",
       "    </tr>\n",
       "    <tr>\n",
       "        <td>Gizmo Corp</td>\n",
       "        <td>Gadget Corp</td>\n",
       "        <td>15</td>\n",
       "    </tr>\n",
       "    <tr>\n",
       "        <td>GizmoWorks</td>\n",
       "        <td>Gadget Corp</td>\n",
       "        <td>15</td>\n",
       "    </tr>\n",
       "    <tr>\n",
       "        <td>Widget Industries</td>\n",
       "        <td>Gadget Corp</td>\n",
       "        <td>15</td>\n",
       "    </tr>\n",
       "</table>"
      ],
      "text/plain": [
       "[(u'DooHickey Collective', u'Gadget Corp', 13),\n",
       " (u'DooHickey Collective', u'Gizmo Corp', 15),\n",
       " (u'DooHickey Corp', u'Gadget Corp', 15),\n",
       " (u'Gadget Collective', u'Gadget Corp', 15),\n",
       " (u'Gadget Corp', u'DooHickey Collective', 13),\n",
       " (u'Gadget Corp', u'DooHickey Corp', 15),\n",
       " (u'Gadget Corp', u'Gadget Collective', 15),\n",
       " (u'Gadget Corp', u'Gizmo Corp', 14),\n",
       " (u'Gadget Corp', u'Gizmo Corp', 15),\n",
       " (u'Gadget Corp', u'GizmoWorks', 15),\n",
       " (u'Gadget Corp', u'Widget Industries', 15),\n",
       " (u'Gizmo Corp', u'DooHickey Collective', 15),\n",
       " (u'Gizmo Corp', u'Gadget Corp', 14),\n",
       " (u'Gizmo Corp', u'Gadget Corp', 15),\n",
       " (u'GizmoWorks', u'Gadget Corp', 15),\n",
       " (u'Widget Industries', u'Gadget Corp', 15)]"
      ]
     },
     "execution_count": 25,
     "metadata": {},
     "output_type": "execute_result"
    }
   ],
   "source": [
    "%%sql\n",
    "DROP VIEW IF EXISTS mOne;\n",
    "DROP VIEW IF EXISTS mTwo;\n",
    "DROP VIEW IF EXISTS mThree;\n",
    "DROP VIEW IF EXISTS pThree;\n",
    "DROP VIEW IF EXISTS pTwo;\n",
    "DROP VIEW IF EXISTS pOne;\n",
    "\n",
    "CREATE VIEW mOne AS\n",
    "    SELECT direction, A, B, d \n",
    "    FROM streets\n",
    "    WHERE B = 'UW-Madison';\n",
    "CREATE VIEW mTwo AS  \n",
    "    SELECT streets.direction as direction, streets.A as A, streets.B as B, streets.d as d  \n",
    "    FROM streets, mOne\n",
    "    ON mOne.A = streets.B;\n",
    "CREATE VIEW mThree AS \n",
    "    SELECT streets.direction as direction,streets.A as A, streets.B as B, streets.d as d  \n",
    "    FROM streets, mTwo\n",
    "    ON mTwo.A = streets.B;\n",
    "CREATE VIEW pOne AS\n",
    "    SELECT direction, streets.A as A, streets.B as B, d \n",
    "    FROM streets\n",
    "    WHERE A = 'UW-Madison';\n",
    "CREATE VIEW pTwo AS  \n",
    "    SELECT streets.direction as direction, streets.A as A, streets.B as B, streets.d as d  \n",
    "    FROM streets, pOne\n",
    "    ON pOne.B = streets.A;\n",
    "CREATE VIEW pThree AS \n",
    "    SELECT streets.direction as direction,streets.A as A, streets.B as B, streets.d as d  \n",
    "    FROM streets, pTwo\n",
    "    ON pTwo.B = streets.A;\n",
    "\n",
    "SELECT m1.A as A, p1.B as B, m1.d + p1.d as d\n",
    "    FROM mOne as m1, pOne as p1\n",
    "    ON m1.A != p1.B\n",
    "    WHERE m1.A != 'UW-Madison' AND m1.d + p1.d <=15\n",
    "UNION\n",
    "    SELECT m1.A as A, p2.B as B, m1.d + p1.d + p2.d as d\n",
    "    FROM mOne as m1, pOne as p1, pTwo as p2\n",
    "    ON m1.A != p2.B\n",
    "    WHERE m1.A != 'UW-Madison' AND m1.d+p1.d+p2.d  <= 15\n",
    "UNION\n",
    "    SELECT m1.A as A, p3.B as B, m1.d + p1.d + p2.d + p3.d as d\n",
    "    FROM mOne as m1, pOne as p1, pTwo as p2, pThree as p3\n",
    "    ON m1.A != p3.B\n",
    "    WHERE m1.A != 'UW-Madison' AND m1.d + p1.d + p2.d + p3.d <= 15\n",
    "    \n",
    "UNION\n",
    "    SELECT m2.A as A, p1.B as B, m2.d+ m1.d + p1.d as d\n",
    "    FROM mTwo as m2, mOne as m1, pOne as p1\n",
    "    ON m2.A != p1.B\n",
    "    WHERE m2.A != 'UW-Madison' AND m2.d+ m1.d + p1.d <=15\n",
    "UNION\n",
    "    SELECT m2.A as A, p2.B as B, m2.d + m1.d + p1.d + p2.d as d\n",
    "    FROM mTwo as m2, mOne as m1, pOne as p1, pTwo as p2\n",
    "    ON m2.A != p2.B\n",
    "    WHERE m2.A != 'UW-Madison' AND m2.d + m1.d + p1.d + p2.d  <= 15\n",
    "UNION\n",
    "    SELECT m2.A as A, p3.B as B, m2.d +m1.d +p1.d + p2.d + p3.d as d\n",
    "    FROM mTwo as m2, mOne as m1, pOne as p1, pTwo as p2, pThree as p3\n",
    "    ON m2.A != p3.B\n",
    "    WHERE m2.A != 'UW-Madison' AND m2.d + m1.d + p1.d + p2.d + p3.d <= 15\n",
    "    \n",
    "    \n",
    "UNION\n",
    "    SELECT m3.A as A, p1.B as B, m3.d + m2.d + m1.d + p1.d as d\n",
    "    FROM mThree as m3,mTwo as m2, mOne as m1,  pOne as p1\n",
    "    ON m3.A != p1.B\n",
    "    WHERE m3.A != 'UW-Madison' AND m3.d + m2.d + m1.d + p1.d <=15\n",
    "UNION\n",
    "    SELECT m3.A as A, p2.B as B, m3.d + m2.d + m1.d+ p1.d + p2.d as d\n",
    "    FROM mThree as m3,mTwo as m2, mOne as m1,  pOne as p1, pTwo as p2\n",
    "    ON m3.A != p2.B\n",
    "    WHERE m3.A != 'UW-Madison' AND m3.d + m2.d + m1.d+ p1.d + p2.d  <= 15\n",
    "UNION\n",
    "    SELECT m3.A as A, p3.B as B, m3.d + m2.d + m1.d + p1.d + p2.d + p3.d as d\n",
    "    FROM mThree as m3,mTwo as m2, mOne as m1, pOne as p1, pTwo as p2, pThree as p3\n",
    "    ON m3.A != p3.B\n",
    "    WHERE m3.A != 'UW-Madison' AND m3.d + m2.d + m1.d + p1.d + p2.d + p3.d <= 15;\n"
   ]
  },
  {
   "cell_type": "code",
   "execution_count": 41,
   "metadata": {},
   "outputs": [
    {
     "name": "stdout",
     "output_type": "stream",
     "text": [
      "Done.\n",
      "Done.\n",
      "Done.\n",
      "Done.\n",
      "Done.\n"
     ]
    },
    {
     "data": {
      "text/html": [
       "<table>\n",
       "    <tr>\n",
       "        <th>A</th>\n",
       "        <th>B</th>\n",
       "        <th>d</th>\n",
       "    </tr>\n",
       "    <tr>\n",
       "        <td>DooHickey Collective</td>\n",
       "        <td>Gadget Corp</td>\n",
       "        <td>13</td>\n",
       "    </tr>\n",
       "    <tr>\n",
       "        <td>DooHickey Corp</td>\n",
       "        <td>Gadget Corp</td>\n",
       "        <td>15</td>\n",
       "    </tr>\n",
       "    <tr>\n",
       "        <td>Gadget Collective</td>\n",
       "        <td>Gadget Corp</td>\n",
       "        <td>15</td>\n",
       "    </tr>\n",
       "    <tr>\n",
       "        <td>Gadget Corp</td>\n",
       "        <td>DooHickey Collective</td>\n",
       "        <td>13</td>\n",
       "    </tr>\n",
       "    <tr>\n",
       "        <td>Gadget Corp</td>\n",
       "        <td>DooHickey Corp</td>\n",
       "        <td>15</td>\n",
       "    </tr>\n",
       "    <tr>\n",
       "        <td>Gadget Corp</td>\n",
       "        <td>Gadget Collective</td>\n",
       "        <td>15</td>\n",
       "    </tr>\n",
       "    <tr>\n",
       "        <td>Gadget Corp</td>\n",
       "        <td>Gizmo Corp</td>\n",
       "        <td>15</td>\n",
       "    </tr>\n",
       "    <tr>\n",
       "        <td>Gizmo Corp</td>\n",
       "        <td>Gadget Corp</td>\n",
       "        <td>15</td>\n",
       "    </tr>\n",
       "</table>"
      ],
      "text/plain": [
       "[(u'DooHickey Collective', u'Gadget Corp', 13),\n",
       " (u'DooHickey Corp', u'Gadget Corp', 15),\n",
       " (u'Gadget Collective', u'Gadget Corp', 15),\n",
       " (u'Gadget Corp', u'DooHickey Collective', 13),\n",
       " (u'Gadget Corp', u'DooHickey Corp', 15),\n",
       " (u'Gadget Corp', u'Gadget Collective', 15),\n",
       " (u'Gadget Corp', u'Gizmo Corp', 15),\n",
       " (u'Gizmo Corp', u'Gadget Corp', 15)]"
      ]
     },
     "execution_count": 41,
     "metadata": {},
     "output_type": "execute_result"
    }
   ],
   "source": [
    "%%sql \n",
    "DROP VIEW IF EXISTS p1;\n",
    "DROP VIEW IF EXISTS p2;\n",
    "DROP VIEW IF EXISTS p3;\n",
    "\n",
    "\n",
    "CREATE VIEW p1 AS\n",
    "        SELECT s1.A, s1.B, s1.d as d \n",
    "        FROM streets s1\n",
    "        WHERE s1.A = 'UW-Madison'\n",
    "    UNION\n",
    "        SELECT s1.A, s2.B, s1.d + s2.d as d \n",
    "        FROM streets s1\n",
    "        JOIN streets s2 ON s1.B = s2.A AND s2.B != s1.A\n",
    "        WHERE s1.A = 'UW-Madison'\n",
    "    UNION\n",
    "        SELECT s1.A, s3.B, s1.d + s2.d + s3.d  as d \n",
    "        FROM streets s1\n",
    "        JOIN streets s2 ON s1.B = s2.A AND s2.B != s1.A\n",
    "        JOIN streets s3 ON s2.B = s3.A AND s3.B != s2.A AND s3.B != s1.A\n",
    "        WHERE s1.A = 'UW-Madison';\n",
    "        \n",
    "\n",
    "SELECT compA.B as A, compB.B as B, compA.d + compB.d as d\n",
    "FROM p1 as compA JOIN p1 as compB ON compA.B <> compB.B\n",
    "where compA.d + compB.d <= 15;"
   ]
  },
  {
   "cell_type": "code",
   "execution_count": null,
   "metadata": {
    "collapsed": true
   },
   "outputs": [],
   "source": [
    "\"\"\"\n",
    "Expected output below- don't re-evaluate this cell!\n",
    "\n",
    "NOTE: A valid answer must work for ALL inputs of the given type,\n",
    "not just this example.  I.e. do not hardcode around this answer / etc!\n",
    "\"\"\""
   ]
  },
  {
   "cell_type": "markdown",
   "metadata": {},
   "source": [
    "### Part (c): Ensuring acyclicity [10 points]\n",
    "\n",
    "You may have noticed at this point that the network, or **_graph_**, of streets in our `streets` table seems like it might be a **tree**.\n",
    "\n",
    "Recall that a **_tree_** is an undirected graph where each node has exactly one parent (or, is the root, and has none), but may have multiple children.  A slightly more formal definition of a tree is as follows: \n",
    "\n",
    "> An undirected graph $T$ is a **_tree_** if it is **connected**- meaning that there is a path between every pair of nodes- and has no **cycles** (informally, closed loops)\n",
    "\n",
    "Suppose that we guarantee the following about the graph of companies & streets determined by the `streets` table:\n",
    "* It is _connected_\n",
    "* It has no cycles of length $> 3$\n",
    "\n",
    "Write a _single SQL query_ which, if our graph is not a tree (i.e. if this isn't a [shaggy dog problem](https://en.wikipedia.org/wiki/Shaggy_dog_story)), **turns it into a tree** by deleting exactly _one_ street (*= two entries in our table!*).  Write your query here:"
   ]
  },
  {
   "cell_type": "code",
   "execution_count": 42,
   "metadata": {},
   "outputs": [
    {
     "name": "stdout",
     "output_type": "stream",
     "text": [
      "Done.\n"
     ]
    },
    {
     "data": {
      "text/plain": [
       "[]"
      ]
     },
     "execution_count": 42,
     "metadata": {},
     "output_type": "execute_result"
    }
   ],
   "source": [
    "%%sql\n",
    "WITH  \n",
    "p3 AS (\n",
    "    SELECT streets.id, streets.A, streets.B\n",
    "    FROM streets, streets as p1, streets as p2\n",
    "    WHERE streets.B = p1.A\n",
    "        AND p1.B != streets.A\n",
    "        AND p1.B = p2.A\n",
    "        AND p2.B = streets.A\n",
    "    LIMIT 1\n",
    "    )\n",
    "DELETE from Streets\n",
    "WHERE streets.id = (Select p3.id from p3);"
   ]
  },
  {
   "cell_type": "code",
   "execution_count": null,
   "metadata": {
    "collapsed": true
   },
   "outputs": [],
   "source": [
    "\"\"\"\n",
    "Expected output below- don't re-evaluate this cell!\n",
    "\n",
    "NOTE: A valid answer must work for ALL inputs of the given type,\n",
    "not just this example.  I.e. do not hardcode around this answer / etc!\n",
    "\"\"\""
   ]
  },
  {
   "cell_type": "markdown",
   "metadata": {},
   "source": [
    "### Part (d): The longest path [10 points]\n",
    "\n",
    "In this part, we want to find the distance of the _longest path between any two companies_.\n",
    "\n",
    "Note that you should probably have done Part (c) first so that the graph of streets is a _tree_- this will make it much easier to work with!\n",
    "\n",
    "If you've done the other parts above, you might be skeptical that SQL can find paths of arbitrary lengths (which is what we need to do for this problem); how can we do this?\n",
    "\n",
    "There are some non-standard SQL functions- i.e. not universally supported by all SQL DBMSs- which are often incredibly useful.  One of these is the `WITH RECURSIVE` clause, supported by SQLite.\n",
    "\n",
    "A `WITH` clause lets you define what is essentially a view within a clause, mainly to clean up your SQL code.  A trivial example, to illustrate `WITH`:"
   ]
  },
  {
   "cell_type": "code",
   "execution_count": null,
   "metadata": {
    "collapsed": true
   },
   "outputs": [],
   "source": [
    "%%sql\n",
    "WITH companies(name) AS (\n",
    "    SELECT DISTINCT A FROM streets)\n",
    "SELECT * \n",
    "FROM companies \n",
    "WHERE name LIKE '%Gizmo%';"
   ]
  },
  {
   "cell_type": "markdown",
   "metadata": {},
   "source": [
    "There is also a recursive variant, `WITH RECURSIVE`.  `WITH RECURSIVE` allows you to define a view just as above, except the table can be defined recursively.  A `WITH RECURSIVE` clause must be of the following form:\n",
    "\n",
    "```\n",
    "WITH RECURSIVE \n",
    "    R(...) AS (\n",
    "        SELECT ... \n",
    "        UNION [ALL] \n",
    "        SELECT ... FROM R, ...\n",
    "    )\n",
    "...\n",
    "```\n",
    "\n",
    "`R` is the _recursive table_.  The `AS` clause contains two `SELECT` statements, conjoined by a `UNION` or `UNION ALL`; the first `SELECT` statement provides the initial / base case values, and the second or _recursive_ `SELECT` statement must include the recursive table in its `FROM` clause.\n",
    "\n",
    "Basically, the recursive `SELECT` statement continues executing on the tuple _most recently inserted into `R`_, inserting output rows back into `R`, and proceeding recursively in this way, until it no longer outputs any rows, and then stops.  See the [SQLite documentation](https://www.sqlite.org/lang_with.html) for more detail.\n",
    "\n",
    "The following example computes $5! = 5*4*3*2*1$ using `WITH RECURSIVE`:"
   ]
  },
  {
   "cell_type": "code",
   "execution_count": null,
   "metadata": {
    "collapsed": true
   },
   "outputs": [],
   "source": [
    "%%sql\n",
    "WITH RECURSIVE\n",
    "    factorials(n,x) AS (\n",
    "        SELECT 1, 1\n",
    "        UNION\n",
    "        SELECT n+1, (n+1)*x FROM factorials WHERE n < 5)\n",
    "SELECT x FROM factorials WHERE n = 5;"
   ]
  },
  {
   "cell_type": "markdown",
   "metadata": {},
   "source": [
    "In this example:\n",
    "\n",
    "1. First, `(1,1)` is inserted into the table `factorials` (the base case).\n",
    "2. Next, this tuple is returned by the recursive select, as `(n, x)`, and we insert the result back into `factorials`: `(1+1, (1+1)*1) = (2,2)`\n",
    "3. Next, we do the same with the last tuple inserted into `factorials`- `(2,2)`- and insert `(2+1, (2+1)*2) = (3,6)`\n",
    "4. And again: get `(3,6)` from `factorials` and insert `(3+1, (3+1)*6) = (4,24)` back in\n",
    "5. And again: `(4,24)` -> `(4+1, (4+1)*24) = (5,120)`\n",
    "6. Now the last tuple inserted into `factorials` is `(5, 120)`, which fails the `WHERE n < 5` clause, and thus our recursive select returns an empty set, and our `WITH RECURSIVE` statement concludes\n",
    "7. Finally, now that our `WITH RECURSIVE` clause has concluded, we move on to the `SELECT x FROM factorials WHERE n=5` clause, which gets us our answer!"
   ]
  },
  {
   "cell_type": "markdown",
   "metadata": {},
   "source": [
    "#### Now, your turn!\n",
    "\n",
    "Write a single SQL query that uses `WITH RECURSIVE` to find the furthest (by distance) pair of companies that still have a path of streets connecting them.  Your query should return `(A, B, distance)`.\n",
    "\n",
    "Write your query here:"
   ]
  },
  {
   "cell_type": "code",
   "execution_count": 44,
   "metadata": {},
   "outputs": [
    {
     "name": "stdout",
     "output_type": "stream",
     "text": [
      "Done.\n"
     ]
    },
    {
     "data": {
      "text/html": [
       "<table>\n",
       "    <tr>\n",
       "        <th>A</th>\n",
       "        <th>B</th>\n",
       "        <th>distance</th>\n",
       "    </tr>\n",
       "    <tr>\n",
       "        <td>GadgetWorks</td>\n",
       "        <td>ThingWorks</td>\n",
       "        <td>63</td>\n",
       "    </tr>\n",
       "</table>"
      ],
      "text/plain": [
       "[(u'GadgetWorks', u'ThingWorks', 63)]"
      ]
     },
     "execution_count": 44,
     "metadata": {},
     "output_type": "execute_result"
    }
   ],
   "source": [
    "%%sql\n",
    "WITH RECURSIVE\n",
    "    path(start, last, curr, d) AS (\n",
    "        SELECT A, A, B, d FROM streets\n",
    "        UNION\n",
    "        SELECT p.start, p.curr, s.B, p.d + s.d\n",
    "        FROM path p JOIN streets S\n",
    "        ON p.curr = s.A\n",
    "        WHERE p.last != s.B\n",
    "    )\n",
    "SELECT start as A, curr as B, MAX(d) as distance FROM path;"
   ]
  },
  {
   "cell_type": "code",
   "execution_count": null,
   "metadata": {
    "collapsed": true
   },
   "outputs": [],
   "source": [
    "\"\"\"\n",
    "Expected output below- don't re-evaluate this cell!\n",
    "\n",
    "NOTE: A valid answer must work for ALL inputs of the given type,\n",
    "not just this example.  I.e. do not hardcode around this answer / etc!\n",
    "\"\"\""
   ]
  },
  {
   "cell_type": "markdown",
   "metadata": {},
   "source": [
    "### Note on alternate output\n",
    "\n",
    "**NOTE:** The **_distance_** of the longest path could be **49 _OR_ 63** depending on which street you deleted in Part (c)!"
   ]
  }
 ],
 "metadata": {
  "kernelspec": {
   "display_name": "Python 2",
   "language": "python",
   "name": "python2"
  },
  "language_info": {
   "codemirror_mode": {
    "name": "ipython",
    "version": 2
   },
   "file_extension": ".py",
   "mimetype": "text/x-python",
   "name": "python",
   "nbconvert_exporter": "python",
   "pygments_lexer": "ipython2",
   "version": "2.7.14"
  }
 },
 "nbformat": 4,
 "nbformat_minor": 2
}
